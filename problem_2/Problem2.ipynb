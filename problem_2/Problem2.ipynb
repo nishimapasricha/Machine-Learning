{
 "cells": [
  {
   "cell_type": "markdown",
   "metadata": {},
   "source": [
    "#### Import and DataReading"
   ]
  },
  {
   "cell_type": "code",
   "execution_count": 176,
   "metadata": {},
   "outputs": [],
   "source": [
    "import pandas as pd\n",
    "from sklearn import preprocessing\n",
    "from sklearn import metrics\n",
    "from sklearn.preprocessing import StandardScaler\n",
    "from sklearn.preprocessing import LabelEncoder\n",
    "dataframe=pd.read_csv(\"pr_train.csv\")\n"
   ]
  },
  {
   "cell_type": "markdown",
   "metadata": {},
   "source": [
    "### Data pre-procesing"
   ]
  },
  {
   "cell_type": "code",
   "execution_count": 177,
   "metadata": {},
   "outputs": [],
   "source": [
    "def changes(df):\n",
    "    df.drop(columns=['hubpincode','memcreateddate','srno','mobilepurchasedate',\"claimtype\"],inplace=True)\n",
    "    df.claimintdate = df.claimintdate.map(lambda x:x+\" 00:00:00\")\n",
    "    df.claimintdate = pd.to_datetime(df.claimintdate).astype('int64')\n",
    "    df.pickupStartdate = df.pickupStartdate.map(lambda x:x+\" 00:00:00\")\n",
    "    df.pickupStartdate = pd.to_datetime(df.pickupStartdate).astype('int64')\n",
    "    labelEncoder = LabelEncoder()\n",
    "    df['mobmake'] = labelEncoder.fit_transform(df['mobmake'])\n",
    "    df.custpincodecategory = labelEncoder.fit_transform(df.custpincodecategory)\n",
    "    return df\n",
    "#dataframe['hubpincode']= label_encoder.fit_transform(dataframe['hubpincode']) \n",
    "# #dataframe['mobmake']= label_encoder.fit_transform(dataframe['mobmake'])\n",
    "# dataframe[\"date\"]=dataframe.pickupStartdate-dataframe.claimintdate\n"
   ]
  },
  {
   "cell_type": "code",
   "execution_count": 178,
   "metadata": {},
   "outputs": [
    {
     "data": {
      "text/html": [
       "<div>\n",
       "<style scoped>\n",
       "    .dataframe tbody tr th:only-of-type {\n",
       "        vertical-align: middle;\n",
       "    }\n",
       "\n",
       "    .dataframe tbody tr th {\n",
       "        vertical-align: top;\n",
       "    }\n",
       "\n",
       "    .dataframe thead th {\n",
       "        text-align: right;\n",
       "    }\n",
       "</style>\n",
       "<table border=\"1\" class=\"dataframe\">\n",
       "  <thead>\n",
       "    <tr style=\"text-align: right;\">\n",
       "      <th></th>\n",
       "      <th>mobmake</th>\n",
       "      <th>hubid</th>\n",
       "      <th>pickuppartnerid</th>\n",
       "      <th>deliverypartnerid</th>\n",
       "      <th>insuranceCompanyId</th>\n",
       "      <th>custpincodecategory</th>\n",
       "      <th>custpincode</th>\n",
       "      <th>claimintdate</th>\n",
       "      <th>servicecntrid</th>\n",
       "      <th>pickupStartdate</th>\n",
       "      <th>tat_in_days</th>\n",
       "    </tr>\n",
       "  </thead>\n",
       "  <tbody>\n",
       "    <tr>\n",
       "      <th>0</th>\n",
       "      <td>12</td>\n",
       "      <td>7</td>\n",
       "      <td>233</td>\n",
       "      <td>233</td>\n",
       "      <td>131</td>\n",
       "      <td>1</td>\n",
       "      <td>500001</td>\n",
       "      <td>1518048000000000000</td>\n",
       "      <td>4403</td>\n",
       "      <td>1518480000000000000</td>\n",
       "      <td>5</td>\n",
       "    </tr>\n",
       "    <tr>\n",
       "      <th>1</th>\n",
       "      <td>8</td>\n",
       "      <td>10</td>\n",
       "      <td>233</td>\n",
       "      <td>233</td>\n",
       "      <td>131</td>\n",
       "      <td>1</td>\n",
       "      <td>226022</td>\n",
       "      <td>1517702400000000000</td>\n",
       "      <td>4444</td>\n",
       "      <td>1518048000000000000</td>\n",
       "      <td>12</td>\n",
       "    </tr>\n",
       "    <tr>\n",
       "      <th>2</th>\n",
       "      <td>8</td>\n",
       "      <td>2</td>\n",
       "      <td>233</td>\n",
       "      <td>233</td>\n",
       "      <td>228</td>\n",
       "      <td>1</td>\n",
       "      <td>110018</td>\n",
       "      <td>1517616000000000000</td>\n",
       "      <td>4388</td>\n",
       "      <td>1518393600000000000</td>\n",
       "      <td>9</td>\n",
       "    </tr>\n",
       "    <tr>\n",
       "      <th>3</th>\n",
       "      <td>11</td>\n",
       "      <td>2</td>\n",
       "      <td>233</td>\n",
       "      <td>233</td>\n",
       "      <td>228</td>\n",
       "      <td>2</td>\n",
       "      <td>124001</td>\n",
       "      <td>1517702400000000000</td>\n",
       "      <td>4092</td>\n",
       "      <td>1518566400000000000</td>\n",
       "      <td>9</td>\n",
       "    </tr>\n",
       "    <tr>\n",
       "      <th>4</th>\n",
       "      <td>12</td>\n",
       "      <td>21</td>\n",
       "      <td>233</td>\n",
       "      <td>233</td>\n",
       "      <td>131</td>\n",
       "      <td>1</td>\n",
       "      <td>201301</td>\n",
       "      <td>1518134400000000000</td>\n",
       "      <td>4580</td>\n",
       "      <td>1518566400000000000</td>\n",
       "      <td>8</td>\n",
       "    </tr>\n",
       "  </tbody>\n",
       "</table>\n",
       "</div>"
      ],
      "text/plain": [
       "   mobmake  hubid  pickuppartnerid  deliverypartnerid  insuranceCompanyId  \\\n",
       "0       12      7              233                233                 131   \n",
       "1        8     10              233                233                 131   \n",
       "2        8      2              233                233                 228   \n",
       "3       11      2              233                233                 228   \n",
       "4       12     21              233                233                 131   \n",
       "\n",
       "   custpincodecategory  custpincode         claimintdate  servicecntrid  \\\n",
       "0                    1       500001  1518048000000000000           4403   \n",
       "1                    1       226022  1517702400000000000           4444   \n",
       "2                    1       110018  1517616000000000000           4388   \n",
       "3                    2       124001  1517702400000000000           4092   \n",
       "4                    1       201301  1518134400000000000           4580   \n",
       "\n",
       "       pickupStartdate  tat_in_days  \n",
       "0  1518480000000000000            5  \n",
       "1  1518048000000000000           12  \n",
       "2  1518393600000000000            9  \n",
       "3  1518566400000000000            9  \n",
       "4  1518566400000000000            8  "
      ]
     },
     "execution_count": 178,
     "metadata": {},
     "output_type": "execute_result"
    }
   ],
   "source": [
    "dataframe1=changes(dataframe)\n",
    "dataframe.head()"
   ]
  },
  {
   "cell_type": "code",
   "execution_count": 191,
   "metadata": {},
   "outputs": [],
   "source": [
    "# names=dataframe.columns\n",
    "# scaler=StandardScaler() \n",
    "# dataframe = scaler.fit_transform(dataframe)\n",
    "# dataframe=pd.DataFrame(dataframe,columns=names)"
   ]
  },
  {
   "cell_type": "markdown",
   "metadata": {},
   "source": [
    "### GradientBoostingRegressor"
   ]
  },
  {
   "cell_type": "code",
   "execution_count": 193,
   "metadata": {},
   "outputs": [
    {
     "name": "stdout",
     "output_type": "stream",
     "text": [
      "[-0.31197928 -0.89389426  0.53720331 ...  0.31606765 -0.1279806\n",
      " -0.16306357]\n",
      "0.8504719528647733\n"
     ]
    }
   ],
   "source": [
    "feature_cols=['mobmake','hubid','pickuppartnerid','deliverypartnerid','insuranceCompanyId',\n",
    "              'custpincodecategory','custpincode','claimintdate','servicecntrid','pickupStartdate' ]\n",
    "X=dataframe[feature_cols]\n",
    "y=dataframe['tat_in_days']\n",
    "from sklearn.model_selection import train_test_split\n",
    "X_train,X_test,y_train,y_test=train_test_split(X,y,random_state=1)\n",
    "from sklearn.ensemble import GradientBoostingRegressor\n",
    "regressor1=GradientBoostingRegressor(n_estimators=500)\n",
    "regressor1.fit(X_train, y_train)  \n",
    "#list(zip(feature_cols,linerg.coef_))\n",
    "y_pred=regressor1.predict(X_test)\n",
    "import numpy as np\n",
    "print(np.sqrt(metrics.mean_squared_error(y_test,y_pred)))"
   ]
  },
  {
   "cell_type": "markdown",
   "metadata": {},
   "source": [
    "### Random forest Regressor"
   ]
  },
  {
   "cell_type": "code",
   "execution_count": 167,
   "metadata": {},
   "outputs": [
    {
     "name": "stdout",
     "output_type": "stream",
     "text": [
      "4.51847359366983\n"
     ]
    }
   ],
   "source": [
    "feature_cols=['mobmake','hubid','pickuppartnerid','deliverypartnerid','insuranceCompanyId',\n",
    "              'custpincodecategory','custpincode','claimintdate','servicecntrid','pickupStartdate' ]\n",
    "X=dataframe[feature_cols]\n",
    "\n",
    "y=dataframe['tat_in_days']\n",
    "from sklearn.model_selection import train_test_split\n",
    "X_train,X_test,y_train,y_test=train_test_split(X,y,random_state=1)\n",
    "from sklearn.ensemble import RandomForestRegressor \n",
    "regressor = RandomForestRegressor(n_estimators = 100, random_state = 0) \n",
    "regressor.fit(X_train, y_train)  \n",
    "#list(zip(feature_cols,linerg.coef_))\n",
    "y_pred=regressor.predict(X_test)\n",
    "\n",
    "import numpy as np\n",
    "print(np.sqrt(metrics.mean_squared_error(y_test,y_pred)))"
   ]
  },
  {
   "cell_type": "markdown",
   "metadata": {},
   "source": [
    "### Predicting test dataset with GradientBoostingRegressor"
   ]
  },
  {
   "cell_type": "code",
   "execution_count": 188,
   "metadata": {},
   "outputs": [],
   "source": [
    "data_test=pd.read_csv(\"pr_test.csv\")\n",
    "data_test1=changes(data_test)\n",
    "data_test1=scaling(data_test1)\n",
    "X_test=data_test1[feature_cols]\n",
    "y_pred=regressor1.predict(X_test)\n",
    "data_test2=pd.read_csv(\"pr_test.csv\")\n",
    "data_test2[\"predictions\"]=y_pred.astype(int)\n",
    "data_test2.to_csv(\"data_test\")"
   ]
  }
 ],
 "metadata": {
  "kernelspec": {
   "display_name": "Python 3",
   "language": "python",
   "name": "python3"
  },
  "language_info": {
   "codemirror_mode": {
    "name": "ipython",
    "version": 3
   },
   "file_extension": ".py",
   "mimetype": "text/x-python",
   "name": "python",
   "nbconvert_exporter": "python",
   "pygments_lexer": "ipython3",
   "version": "3.7.3"
  }
 },
 "nbformat": 4,
 "nbformat_minor": 2
}
